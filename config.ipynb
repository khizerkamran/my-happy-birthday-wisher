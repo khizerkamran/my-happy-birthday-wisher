{
 "cells": [
  {
   "cell_type": "code",
   "execution_count": 1,
   "id": "895cc76a",
   "metadata": {},
   "outputs": [],
   "source": [
    "# Specify which file (without .py extension) in the arts folder should be used\n",
    "artFile = \"example\"\n",
    "# Speed of art\n",
    "speed = 0.005\n",
    "# Print code in the beginning\n",
    "codePrint = False\n",
    "codingSpeed = 0.01\n",
    "codeColor='red'\n",
    "# Audio\n",
    "playAudio = True\n",
    "audio = 'HappyBirthday.mp3'\n",
    "# Random color is choosen from the list\n",
    "color = ['red','green','yellow','blue','magenta','cyan','white']\n",
    "# Change the keys of the dict to change the color codes\n",
    "# If you change the color codes for blink, remove blink(none) and random, you have to change it in pprint() function of PyBirthdayWish.py too.\n",
    "colorCodes = {'①':'grey','②':'red','③':'green','④':'yellow','⑤':'blue','⑥':'magenta','⑦':'cyan','⑧':'white','⑨':'blink','⑩':'none','®':'random'}\n"
   ]
  },
  {
   "cell_type": "code",
   "execution_count": null,
   "id": "76679979",
   "metadata": {},
   "outputs": [],
   "source": []
  }
 ],
 "metadata": {
  "kernelspec": {
   "display_name": "Python 3",
   "language": "python",
   "name": "python3"
  },
  "language_info": {
   "codemirror_mode": {
    "name": "ipython",
    "version": 3
   },
   "file_extension": ".py",
   "mimetype": "text/x-python",
   "name": "python",
   "nbconvert_exporter": "python",
   "pygments_lexer": "ipython3",
   "version": "3.8.7"
  }
 },
 "nbformat": 4,
 "nbformat_minor": 5
}
